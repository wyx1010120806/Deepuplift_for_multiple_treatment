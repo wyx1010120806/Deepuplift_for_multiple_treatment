{
 "cells": [
  {
   "cell_type": "code",
   "execution_count": 1,
   "metadata": {},
   "outputs": [
    {
     "data": {
      "text/plain": [
       "device(type='cuda')"
      ]
     },
     "execution_count": 1,
     "metadata": {},
     "output_type": "execute_result"
    }
   ],
   "source": [
    "import random\n",
    "import numpy as np\n",
    "import pandas as pd\n",
    "import pickle\n",
    "\n",
    "from functools import partial\n",
    "from esn_tarnet import *\n",
    "from feature_select import *\n",
    "from s_learner import *\n",
    "from t_learner import *\n",
    "from tarnet import *\n",
    "from dragonnet import *\n",
    "\n",
    "def set_seed(seed):\n",
    "        random.seed(seed)\n",
    "        np.random.seed(seed)\n",
    "        torch.manual_seed(seed)\n",
    "        torch.cuda.manual_seed_all(seed)\n",
    "        torch.backends.cudnn.deterministic = True\n",
    "        torch.backends.cudnn.benchmark = False\n",
    "set_seed(42)\n",
    "\n",
    "device = torch.device('cuda' if torch.cuda.is_available() else 'cpu')\n",
    "device"
   ]
  },
  {
   "cell_type": "code",
   "execution_count": 2,
   "metadata": {},
   "outputs": [],
   "source": [
    "country_code = 'ID'\n",
    "feature_list_path = f'/mlx_devbox/users/wangyuxin.huoshan/playground/bonus_train_data/{country_code}_feature_list_aftersale_gmv_selected.pkl'\n",
    "feature_list_discrete_path = f'/mlx_devbox/users/wangyuxin.huoshan/playground/bonus_train_data/{country_code}_feature_list_aftersale_gmv_selected_discrete.pkl'\n",
    "discrete_size_cols_path = f'/mlx_devbox/users/wangyuxin.huoshan/playground/bonus_train_data/{country_code}_feature_list_aftersale_gmv_selected_discrete_size.pkl'\n",
    "train_data_apth = f'/mlx_devbox/users/wangyuxin.huoshan/playground/bonus_train_data/aftersale_train_valid_{country_code}'"
   ]
  },
  {
   "cell_type": "code",
   "execution_count": 3,
   "metadata": {},
   "outputs": [
    {
     "name": "stdout",
     "output_type": "stream",
     "text": [
      "200\n",
      "60\n",
      "60\n"
     ]
    }
   ],
   "source": [
    "#读取特征列表\n",
    "with open(feature_list_path, 'rb') as f:\n",
    "    feature_list = pickle.load(f)\n",
    "print(len(feature_list))\n",
    "\n",
    "with open(feature_list_discrete_path, 'rb') as f:\n",
    "    feature_list_discrete = pickle.load(f)\n",
    "print(len(feature_list_discrete))\n",
    "\n",
    "with open(discrete_size_cols_path, 'rb') as f:\n",
    "    discrete_size_cols = pickle.load(f)\n",
    "print(len(discrete_size_cols))\n",
    "\n",
    "label_y = 'gmv'\n",
    "task='regression'\n",
    "treatment_label_list=[0, 1]\n",
    "loss_type='huberloss'\n",
    "checkpoint_path=f'/mlx_devbox/users/wangyuxin.huoshan/playground/bonus_train_data/{country_code}_aftersale_gmv_tarnet_checkpoint_256.pth'\n",
    "\n",
    "model = Tarnet(\n",
    "    input_dim=len(feature_list), discrete_size_cols=discrete_size_cols,embedding_dim=3,share_dim=64,\n",
    "                 share_hidden_dims =[256,128,128,64],\n",
    "                 base_hidden_dims=[64,32,32,16],output_activation_base=None,\n",
    "                 share_hidden_func = torch.nn.ELU(),base_hidden_func = torch.nn.ELU(), \n",
    "                 task = task,classi_nums=2, treatment_label_list=treatment_label_list,model_type='Tarnet',device=device\n",
    ").to(device)\n",
    "loss_f = partial(tarnet_loss)\n",
    "\n",
    "# model = Dragonnet(input_dim=len(feature_list),discrete_size_cols=discrete_size_cols,embedding_dim=3,share_dim=64,\n",
    "#                  share_hidden_dims =[512,256,256,128], share_hidden_func = torch.nn.ELU(),\n",
    "#                  base_hidden_dims=[64,32,32,16],output_activation_base=torch.nn.Sigmoid(),base_hidden_func = torch.nn.ELU(),\n",
    "#                  ipw_hidden_dims=[64,32,32,16],output_activation_ipw=torch.nn.Sigmoid(),ipw_hidden_func = torch.nn.ELU(),\n",
    "#                  epsilons_hidden_dims=[64,32,32,16],output_activation_epsilons=torch.nn.Sigmoid(),epsilons_hidden_func = torch.nn.ELU(),\n",
    "#                  task = 'classification',classi_nums=2, treatment_label_list=[0,1],model_type='Dragonnet',device=device\n",
    "# ).to(device)\n",
    "# loss_f = partial(dragonnet_loss)\n"
   ]
  },
  {
   "cell_type": "code",
   "execution_count": 4,
   "metadata": {},
   "outputs": [
    {
     "data": {
      "text/html": [
       "<div>\n",
       "<style scoped>\n",
       "    .dataframe tbody tr th:only-of-type {\n",
       "        vertical-align: middle;\n",
       "    }\n",
       "\n",
       "    .dataframe tbody tr th {\n",
       "        vertical-align: top;\n",
       "    }\n",
       "\n",
       "    .dataframe thead th {\n",
       "        text-align: right;\n",
       "    }\n",
       "</style>\n",
       "<table border=\"1\" class=\"dataframe\">\n",
       "  <thead>\n",
       "    <tr style=\"text-align: right;\">\n",
       "      <th></th>\n",
       "      <th>is_treatment</th>\n",
       "      <th>gmv_label_pos_rate</th>\n",
       "      <th>gmv_mean</th>\n",
       "      <th>count</th>\n",
       "    </tr>\n",
       "  </thead>\n",
       "  <tbody>\n",
       "    <tr>\n",
       "      <th>0</th>\n",
       "      <td>0.0</td>\n",
       "      <td>0.477848</td>\n",
       "      <td>37.374539</td>\n",
       "      <td>2783298</td>\n",
       "    </tr>\n",
       "    <tr>\n",
       "      <th>1</th>\n",
       "      <td>1.0</td>\n",
       "      <td>0.478017</td>\n",
       "      <td>37.578845</td>\n",
       "      <td>2783677</td>\n",
       "    </tr>\n",
       "  </tbody>\n",
       "</table>\n",
       "</div>"
      ],
      "text/plain": [
       "   is_treatment  gmv_label_pos_rate   gmv_mean    count\n",
       "0           0.0            0.477848  37.374539  2783298\n",
       "1           1.0            0.478017  37.578845  2783677"
      ]
     },
     "execution_count": 4,
     "metadata": {},
     "output_type": "execute_result"
    }
   ],
   "source": [
    "df = pd.read_parquet(train_data_apth,columns=feature_list+['is_treatment','gmv']).fillna(0)\n",
    "\n",
    "for column in df.columns:\n",
    "    if df[column].dtype != 'float':\n",
    "        df[column] = df[column].astype('float')\n",
    "\n",
    "df['gmv_label'] = df['gmv'].apply(lambda x: 1 if x>0 else 0)\n",
    "df.groupby('is_treatment').agg(\n",
    "        gmv_label_pos_rate=('gmv_label', 'mean'),  # 正例比例 = 平均值（因为是0/1）\n",
    "        gmv_mean=('gmv', 'mean'),                  # gmv 均值\n",
    "        count=('gmv_label', 'size')                # 样本数（可选）\n",
    "    ).reset_index()\n",
    "\n"
   ]
  },
  {
   "cell_type": "code",
   "execution_count": 5,
   "metadata": {},
   "outputs": [
    {
     "name": "stdout",
     "output_type": "stream",
     "text": [
      "[16.560626 22.251774  0.       ...  0.       86.133461  0.      ]\n",
      "预计单epoch训练步数: 13047\n",
      "--epoch: 0 train_loss: 74.2378  valid_loss: 74.4042 uplift_loss: nan \n",
      "epoch: 0 time: 294.4381s\n"
     ]
    },
    {
     "name": "stderr",
     "output_type": "stream",
     "text": [
      "/root/anaconda3/lib/python3.13/site-packages/numpy/_core/fromnumeric.py:3904: RuntimeWarning: Mean of empty slice.\n",
      "  return _methods._mean(a, axis=axis, dtype=dtype,\n",
      "/root/anaconda3/lib/python3.13/site-packages/numpy/_core/_methods.py:147: RuntimeWarning: invalid value encountered in scalar divide\n",
      "  ret = ret.dtype.type(ret / rcount)\n"
     ]
    },
    {
     "name": "stdout",
     "output_type": "stream",
     "text": [
      "--epoch: 1 train_loss: 73.8390  valid_loss: 74.1460 uplift_loss: nan \n",
      "epoch: 1 time: 294.4726s\n",
      "--epoch: 2 train_loss: 73.6423  valid_loss: 73.9751 uplift_loss: nan \n",
      "epoch: 2 time: 291.4906s\n",
      "--epoch: 3 train_loss: 73.4656  valid_loss: 73.7878 uplift_loss: nan \n",
      "epoch: 3 time: 293.9627s\n",
      "--epoch: 4 train_loss: 73.2966  valid_loss: 73.6177 uplift_loss: nan \n",
      "epoch: 4 time: 294.2649s\n",
      "--epoch: 5 train_loss: 73.1352  valid_loss: 73.4666 uplift_loss: nan \n",
      "epoch: 5 time: 292.3166s\n",
      "--epoch: 6 train_loss: 72.9805  valid_loss: 73.2900 uplift_loss: nan \n",
      "epoch: 6 time: 294.7252s\n",
      "--epoch: 7 train_loss: 72.8310  valid_loss: 73.1222 uplift_loss: nan \n",
      "epoch: 7 time: 294.7894s\n",
      "--epoch: 8 train_loss: 72.6872  valid_loss: 72.9943 uplift_loss: nan \n",
      "epoch: 8 time: 293.4840s\n",
      "--epoch: 9 train_loss: 72.5505  valid_loss: 72.8409 uplift_loss: nan \n",
      "epoch: 9 time: 291.2804s\n",
      "--epoch: 10 train_loss: 72.4185  valid_loss: 72.7242 uplift_loss: nan \n",
      "epoch: 10 time: 292.7400s\n",
      "--epoch: 11 train_loss: 72.2911  valid_loss: 72.5976 uplift_loss: nan \n",
      "epoch: 11 time: 294.9338s\n",
      "--epoch: 12 train_loss: 72.1701  valid_loss: 72.4705 uplift_loss: nan \n",
      "epoch: 12 time: 294.4078s\n",
      "--epoch: 13 train_loss: 72.0547  valid_loss: 72.3421 uplift_loss: nan \n",
      "epoch: 13 time: 295.8058s\n",
      "--epoch: 14 train_loss: 71.9411  valid_loss: 72.2092 uplift_loss: nan \n",
      "epoch: 14 time: 292.7714s\n",
      "--epoch: 15 train_loss: 71.8335  valid_loss: 72.1086 uplift_loss: nan \n",
      "epoch: 15 time: 293.3370s\n",
      "--epoch: 16 train_loss: 71.7282  valid_loss: 71.9809 uplift_loss: nan \n",
      "epoch: 16 time: 292.7182s\n",
      "--epoch: 17 train_loss: 71.6274  valid_loss: 71.8783 uplift_loss: nan \n",
      "epoch: 17 time: 296.4115s\n",
      "--epoch: 18 train_loss: 71.5287  valid_loss: 71.8066 uplift_loss: nan \n",
      "epoch: 18 time: 293.4151s\n",
      "--epoch: 19 train_loss: 71.4322  valid_loss: 71.6672 uplift_loss: nan \n",
      "epoch: 19 time: 293.7917s\n",
      "--epoch: 20 train_loss: 71.3384  valid_loss: 71.5913 uplift_loss: nan \n",
      "epoch: 20 time: 291.7969s\n",
      "--epoch: 21 train_loss: 71.2438  valid_loss: 71.5006 uplift_loss: nan \n",
      "epoch: 21 time: 292.1442s\n",
      "--epoch: 22 train_loss: 71.1523  valid_loss: 71.3534 uplift_loss: nan \n",
      "epoch: 22 time: 291.6368s\n",
      "--epoch: 23 train_loss: 71.0638  valid_loss: 71.3041 uplift_loss: nan \n",
      "epoch: 23 time: 292.2866s\n",
      "--epoch: 24 train_loss: 70.9740  valid_loss: 71.2033 uplift_loss: nan \n",
      "epoch: 24 time: 294.3991s\n",
      "--epoch: 25 train_loss: 70.8844  valid_loss: 71.0877 uplift_loss: nan \n",
      "epoch: 25 time: 293.2040s\n",
      "--epoch: 26 train_loss: 70.7985  valid_loss: 71.0307 uplift_loss: nan \n",
      "epoch: 26 time: 292.8962s\n",
      "--epoch: 27 train_loss: 70.7117  valid_loss: 70.9231 uplift_loss: nan \n",
      "epoch: 27 time: 294.5108s\n"
     ]
    }
   ],
   "source": [
    "model.fit(\n",
    "    df=df,\n",
    "    feature_list=feature_list,\n",
    "    discrete_cols=feature_list_discrete,\n",
    "    epochs=300,\n",
    "    batch_size=256,\n",
    "    learning_rate=1e-5,\n",
    "    loss_f=loss_f,\n",
    "    tensorboard=False,\n",
    "    num_workers=40,\n",
    "    pin_memory=True,\n",
    "    device=device,\n",
    "    valid_perc=True,\n",
    "    label_y=label_y,\n",
    "    label_treatment='is_treatment',\n",
    "    task=task,\n",
    "    loss_type=loss_type,\n",
    "    treatment_label_list=treatment_label_list,\n",
    "    checkpoint_path = checkpoint_path,\n",
    "    if_continued_train = 0\n",
    ")\n"
   ]
  },
  {
   "cell_type": "code",
   "execution_count": null,
   "metadata": {},
   "outputs": [],
   "source": []
  },
  {
   "cell_type": "code",
   "execution_count": null,
   "metadata": {},
   "outputs": [],
   "source": []
  },
  {
   "cell_type": "code",
   "execution_count": null,
   "metadata": {},
   "outputs": [],
   "source": []
  },
  {
   "cell_type": "code",
   "execution_count": null,
   "metadata": {},
   "outputs": [],
   "source": []
  },
  {
   "cell_type": "code",
   "execution_count": null,
   "metadata": {},
   "outputs": [],
   "source": []
  },
  {
   "cell_type": "code",
   "execution_count": null,
   "metadata": {},
   "outputs": [],
   "source": []
  },
  {
   "cell_type": "code",
   "execution_count": null,
   "metadata": {},
   "outputs": [],
   "source": []
  },
  {
   "cell_type": "code",
   "execution_count": null,
   "metadata": {},
   "outputs": [],
   "source": []
  },
  {
   "cell_type": "code",
   "execution_count": null,
   "metadata": {},
   "outputs": [],
   "source": []
  },
  {
   "cell_type": "code",
   "execution_count": null,
   "metadata": {},
   "outputs": [],
   "source": []
  }
 ],
 "metadata": {
  "fileId": "beb3992b-677d-47b6-8ae9-c1af57f41da3",
  "filePath": "/mlx_devbox/users/wangyuxin.huoshan/playground/deeplift/main.ipynb",
  "kernelspec": {
   "display_name": "Python (base)",
   "language": "python",
   "name": "base"
  }
 },
 "nbformat": 4,
 "nbformat_minor": 2
}
